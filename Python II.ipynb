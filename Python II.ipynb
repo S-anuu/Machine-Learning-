{
 "cells": [
  {
   "cell_type": "markdown",
   "metadata": {},
   "source": [
    "<h2>Data Structures</h2>"
   ]
  },
  {
   "cell_type": "code",
   "execution_count": 9,
   "metadata": {},
   "outputs": [
    {
     "name": "stdout",
     "output_type": "stream",
     "text": [
      "1\n",
      "4\n",
      "[2, 3]\n",
      "[1, 2, 3, 4, 3]\n",
      "[1, 'hi', True, 3.76, 2, 'hello']\n",
      "[0, 2, 3, 4, 3]\n",
      "[0, 4, 9, 16, 9]\n",
      "[0, 2, 3, 3, 4]\n",
      "[4, 3, 3, 2, 0]\n",
      "[4, 3, 2, 0]\n"
     ]
    }
   ],
   "source": [
    "#Lists\n",
    "\n",
    "#Creating Lists:\n",
    "\n",
    "empty_list = []\n",
    "numbers = [1, 2, 3, 4]\n",
    "mixed_list = [1, 'hi', True, 3.76]\n",
    "\n",
    "#Accessing Elements:\n",
    "\n",
    "first_element = numbers[0]\n",
    "last_element = numbers[-1]\n",
    "\n",
    "sliced = numbers[1:-1]\n",
    "\n",
    "print(first_element)                        #1\n",
    "print(last_element)                         #4\n",
    "print(sliced)                               #[2,3]\n",
    "\n",
    "#Appending And Extending:\n",
    "\n",
    "numbers.append(3)\n",
    "print(numbers)                              #[1,2,3,4,3]\n",
    "\n",
    "mixed_list.extend([2, 'hello'])\n",
    "print(mixed_list)                           #[1, 'hi', True, 3.76, 2, 'hello']\n",
    "\n",
    "#Modifying Elements:\n",
    "\n",
    "numbers[0] = 0\n",
    "print(numbers)                              #[0,2,3,4,3]\n",
    "\n",
    "#List Comprehension:\n",
    "\n",
    "#Useful for creating new lists by applying a function to each item in an existing list, often used in data transformation.\n",
    "\n",
    "squared_numbers = [x**2 for x in numbers]\n",
    "print(squared_numbers)                      #[0,4,9,16,9]\n",
    "\n",
    "#Sorting And Reversing:\n",
    "\n",
    "numbers.sort()\n",
    "print(numbers)                              #[0,2,3,3,4]\n",
    "\n",
    "numbers.reverse()\n",
    "print(numbers)                              #[4,3,3,2,0]\n",
    "\n",
    "#Removing Elements:\n",
    "\n",
    "numbers.remove(3)\n",
    "print(numbers)                              #[4,3,2,0]"
   ]
  },
  {
   "cell_type": "code",
   "execution_count": 11,
   "metadata": {},
   "outputs": [
    {
     "name": "stdout",
     "output_type": "stream",
     "text": [
      "(3, 6, 7)\n",
      "3\n",
      "3 6 7\n"
     ]
    }
   ],
   "source": [
    "#Tuples\n",
    "# Tuples are immutable; you cannot modify them directly\n",
    "\n",
    "#Creating Tuples:\n",
    "\n",
    "tup_nums = (3,6,7)\n",
    "print(tup_nums)                     #(3,6,7)\n",
    "\n",
    "#Accessing Elements:\n",
    "\n",
    "first_element = tup_nums[0]         #3\n",
    "print(first_element)\n",
    "\n",
    "#Unpacking Tuples:\n",
    "\n",
    "x, y, z = tup_nums\n",
    "print(x, y, z)                      #3 6 7"
   ]
  },
  {
   "cell_type": "code",
   "execution_count": 13,
   "metadata": {},
   "outputs": [
    {
     "name": "stdout",
     "output_type": "stream",
     "text": [
      "{1, 2, 4, 5}\n",
      "False\n",
      "True\n",
      "{1, 2, 3, 4, 5}\n",
      "{1, 2, 3, 4, 5}\n",
      "{3}\n",
      "{1, 2}\n",
      "{1, 2, 4, 5}\n"
     ]
    }
   ],
   "source": [
    "#Sets\n",
    "\n",
    "#Creating Sets:\n",
    "\n",
    "unique_nums = {1, 2, 4, 5}\n",
    "print(unique_nums)          # {1,2,4,5}\n",
    "\n",
    "#Membership Test:\n",
    "\n",
    "print(3 in unique_nums)     # False\n",
    "print(2 in unique_nums)     # True\n",
    "\n",
    "#Adding And Removing elements:\n",
    "\n",
    "unique_nums.add(3)\n",
    "print(unique_nums)          # {1,2,3,4,5}\n",
    "\n",
    "# Set Operations\n",
    "\n",
    "set_a = {1, 2, 3}\n",
    "set_b = {3, 4, 5}\n",
    "\n",
    "union = set_a.union(set_b)  \n",
    "intersection = set_a.intersection(set_b)\n",
    "difference = set_a.difference(set_b)\n",
    "symmetric_difference = set_a.symmetric_difference(set_b)\n",
    "\n",
    "print(union)                 # {1, 2, 3, 4, 5}\n",
    "print(intersection)          # {3}\n",
    "print(difference)            # {1, 2}\n",
    "print(symmetric_difference)  # {1, 2, 4, 5}\n"
   ]
  },
  {
   "cell_type": "code",
   "execution_count": 25,
   "metadata": {},
   "outputs": [
    {
     "name": "stdout",
     "output_type": "stream",
     "text": [
      "{'Bikash': 90, 'Alisha': 85, 'Suman': 95}\n",
      "90\n",
      "{'Bikash': 90, 'Alisha': 88, 'Suman': 95}\n",
      "dict_keys(['Bikash', 'Alisha', 'Suman'])\n",
      "dict_values([90, 88, 95])\n",
      "dict_items([('Bikash', 90), ('Alisha', 88), ('Suman', 95)])\n",
      "{'Bikash': {'age': 20, 'subject': 'Math'}, 'Alisha': {'age': 22, 'subject': 'Science'}, 'Suman': {'age': 21, 'subject': 'Nepali'}}\n",
      "{'age': 22, 'subject': 'Science'}\n",
      "21\n"
     ]
    }
   ],
   "source": [
    "#Dictionaries\n",
    "\n",
    "#Creating and Initializing Dictionaries:\n",
    "\n",
    "student_scores = {'Bikash': 90, 'Alisha': 85, 'Suman': 95}\n",
    "print(student_scores)   # {'Bikash': 90, 'Alisha': 85, 'Suman': 95}\n",
    "\n",
    "#Accessing and Modifying Values:\n",
    "\n",
    "score = student_scores['Bikash']\n",
    "print(score)            # 90\n",
    "\n",
    "student_scores['Alisha'] = 88\n",
    "print(student_scores)   # {'Bikash': 90, 'Alisha': 88, 'Suman': 95}\n",
    "\n",
    "#Dictionary methods:\n",
    "\n",
    "keys = student_scores.keys()\n",
    "values = student_scores.values()\n",
    "items = student_scores.items()\n",
    "\n",
    "print(keys)             # dict_keys(['Bikash', 'Alisha', 'Suman'])\n",
    "print(values)           # dict_values([90, 88, 95])\n",
    "print(items)            # dict_items([('Bikash', 90), ('Alisha', 88), ('Suman', 95)])\n",
    "\n",
    "#Nested Dictionaries\n",
    "\n",
    "students = {\n",
    "    'Bikash': {'age': 20, 'subject': 'Math' },\n",
    "    'Alisha': {'age': 22, 'subject': 'Science'},\n",
    "    'Suman': {'age': 21, 'subject': 'Nepali'}\n",
    "\n",
    "}\n",
    "\n",
    "print(students)        # {'Bikash': {'age': 20, 'subject': 'Math'}, 'Alisha': {'age': 22, 'subject': 'Science'}, 'Suman': {'age': 21, 'subject': 'Nepali'}\n",
    "\n",
    "alisha_details = students['Alisha']\n",
    "print(alisha_details)   # {'age': 22, 'subject': 'Science'}\n",
    "\n",
    "suman_age = students['Suman']['age']\n",
    "print(suman_age)        # 21"
   ]
  }
 ],
 "metadata": {
  "kernelspec": {
   "display_name": "Python 3",
   "language": "python",
   "name": "python3"
  },
  "language_info": {
   "codemirror_mode": {
    "name": "ipython",
    "version": 3
   },
   "file_extension": ".py",
   "mimetype": "text/x-python",
   "name": "python",
   "nbconvert_exporter": "python",
   "pygments_lexer": "ipython3",
   "version": "3.12.4"
  }
 },
 "nbformat": 4,
 "nbformat_minor": 2
}
