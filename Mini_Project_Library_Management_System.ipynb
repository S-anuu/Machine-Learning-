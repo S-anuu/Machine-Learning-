{
 "cells": [
  {
   "cell_type": "code",
   "execution_count": 37,
   "metadata": {},
   "outputs": [],
   "source": [
    "class Book:\n",
    "    def __init__(self, title:str, id:int, author:str, genre:str, copies:int):\n",
    "        self.title = title\n",
    "        self.id = id\n",
    "        self.author = author\n",
    "        self.genre = genre\n",
    "        self.copies = copies\n",
    "    \n",
    "    def __str__(self):\n",
    "        return f'***************\\nTitle: {self.title}\\nID: {self.id}\\nAuthor: {self.author}\\nGenre: {self.genre}\\nCopies: {self.copies}'"
   ]
  },
  {
   "cell_type": "code",
   "execution_count": 38,
   "metadata": {},
   "outputs": [
    {
     "name": "stdout",
     "output_type": "stream",
     "text": [
      "***************\n",
      "Title: Verity\n",
      "ID: 1\n",
      "Author: Colleen Hoover\n",
      "Genre: Suspense\n",
      "Copies: 2\n",
      "***************\n",
      "Title: Atomic Habits\n",
      "ID: 2\n",
      "Author: James Clear\n",
      "Genre: Self Help Book\n",
      "Copies: 1\n",
      "***************\n",
      "Title: Till The Last Breathe\n",
      "ID: 3\n",
      "Author: Durjoy Dutta\n",
      "Genre: Romantic Fantasy\n",
      "Copies: 2\n"
     ]
    }
   ],
   "source": [
    "book1 = Book('Verity', 1, 'Colleen Hoover', 'Suspense', 2)\n",
    "book2 = Book('Atomic Habits', 2, 'James Clear', 'Self Help Book', 1)\n",
    "book3 = Book('Till The Last Breathe', 3, 'Durjoy Dutta', 'Romantic Fantasy', 2)\n",
    "\n",
    "print(book1)\n",
    "print(book2)\n",
    "print(book3)"
   ]
  },
  {
   "cell_type": "code",
   "execution_count": 39,
   "metadata": {},
   "outputs": [],
   "source": [
    "class Member:\n",
    "    def __init__(self, name: str, member_id: int, borrowed_books=None):\n",
    "        self.name = name\n",
    "        self.member_id = member_id\n",
    "        if borrowed_books is None:\n",
    "            self.borrowed_books = []\n",
    "        else:\n",
    "            self.borrowed_books = borrowed_books if isinstance(borrowed_books, list) else []\n",
    "\n",
    "    def __str__(self):\n",
    "        borrowed_titles = ', '.join(book.title if isinstance(book, Book) else str(book) for book in self.borrowed_books)\n",
    "        return f'**************\\nName: {self.name}\\nID: {self.member_id}\\nBorrowed Books: {borrowed_titles}'\n",
    "\n",
    "    def borrow_book(self, book: Book):\n",
    "        self.borrowed_books.append(book)\n",
    "    \n",
    "    def return_book(self, book: Book):\n",
    "        if book in self.borrowed_books:\n",
    "            self.borrowed_books.remove(book)\n",
    "        else:\n",
    "            print(\"This book was not borrowed by the member\")"
   ]
  },
  {
   "cell_type": "code",
   "execution_count": 40,
   "metadata": {},
   "outputs": [
    {
     "name": "stdout",
     "output_type": "stream",
     "text": [
      "**************\n",
      "Name: Anu Sapkota\n",
      "ID: 1\n",
      "Borrowed Books: \n",
      "**************\n",
      "Name: Anjana Timsina\n",
      "ID: 2\n",
      "Borrowed Books: \n",
      "**************\n",
      "Name: Taylor Swift\n",
      "ID: 3\n",
      "Borrowed Books: \n",
      "**************\n",
      "Name: Lana Del Rey\n",
      "ID: 4\n",
      "Borrowed Books: \n"
     ]
    }
   ],
   "source": [
    "member1 = Member('Anu Sapkota', 1)\n",
    "member2 = Member('Anjana Timsina', 2)\n",
    "member3 = Member('Taylor Swift', 3)\n",
    "member4 = Member('Lana Del Rey', 4)\n",
    "\n",
    "print(member1)\n",
    "print(member2)\n",
    "print(member3)\n",
    "print(member4)"
   ]
  },
  {
   "cell_type": "code",
   "execution_count": 41,
   "metadata": {},
   "outputs": [],
   "source": [
    "class Library:\n",
    "\n",
    "    def __init__(self):\n",
    "        self.books = {}\n",
    "        self.members = {}\n",
    "    \n",
    "    def __str__(self):\n",
    "        books_str = '\\n'.join(f'{book_id}: {book.title}' for book_id, book in self.books.items())\n",
    "        members_str = '\\n'.join(f'{member_id}: {member.name}' for member_id, member in self.members.items())\n",
    "        return f'****************\\nBooks:\\n{books_str}\\n****************\\nMembers:\\n{members_str}'\n",
    "\n",
    "    def add_book(self, book: Book):\n",
    "        if book.id in self.books:\n",
    "            print(\"Book with this ID already exists.\")\n",
    "        else:\n",
    "            self.books[book.id] = book\n",
    "    \n",
    "    def remove_book(self, book_id: int):\n",
    "        if book_id in self.books:\n",
    "            del self.books[book_id]\n",
    "        else:\n",
    "            print(\"Book not found\")\n",
    "\n",
    "    def register_member(self, member: Member):\n",
    "        if member.member_id in self.members:\n",
    "            print(\"Member with this ID already exists.\")\n",
    "        else:\n",
    "            self.members[member.member_id] = member\n",
    "    \n",
    "    def borrow_book(self, member_id: int, book_id: int):\n",
    "        member = self.members.get(member_id)\n",
    "        book = self.books.get(book_id)\n",
    "        \n",
    "        if member and book:\n",
    "            if book.copies > 0:\n",
    "                member.borrow_book(book)\n",
    "                book.copies -= 1\n",
    "                print(f\"{book.title} borrowed by {member.name}\")\n",
    "            else:\n",
    "                print(f\"No copies of {book.title} are available\")\n",
    "        else:\n",
    "            if not member:\n",
    "                print(f\"No member with ID {member_id}\")\n",
    "            if not book:\n",
    "                print(f\"No book with ID {book_id}\")\n",
    "\n",
    "    def return_book(self, member_id: int, book_id: int):\n",
    "        member = self.members.get(member_id)\n",
    "        book = self.books.get(book_id)\n",
    "        \n",
    "        if member and book:\n",
    "            if book in member.borrowed_books:\n",
    "                member.return_book(book)\n",
    "                book.copies += 1\n",
    "                print(f\"{book.title} returned by {member.name}\")\n",
    "            else:\n",
    "                print(f\"{member.name} did not borrow {book.title}\")\n",
    "        else:\n",
    "            if not member:\n",
    "                print(f\"No member with ID {member_id}\")\n",
    "            if not book:\n",
    "                print(f\"No book with ID {book_id}\")\n",
    "\n",
    "    def print_available_books(self):\n",
    "        print('Available Books:')\n",
    "        for book in self.books.values():\n",
    "            if book.copies > 0:\n",
    "                print(book)\n",
    "    \n",
    "    def print_borrowed_books(self):\n",
    "        print('Books Borrowed By Members:')\n",
    "        for member in self.members.values():\n",
    "            if member.borrowed_books:\n",
    "                borrowed_books_str = ','.join(f'{member.name} : {book.title}' for book in member.borrowed_books)\n",
    "                print(borrowed_books_str)"
   ]
  },
  {
   "cell_type": "code",
   "execution_count": 42,
   "metadata": {},
   "outputs": [
    {
     "name": "stdout",
     "output_type": "stream",
     "text": [
      "****************\n",
      "Books:\n",
      "1: Verity\n",
      "2: Atomic Habits\n",
      "3: Till The Last Breathe\n",
      "****************\n",
      "Members:\n",
      "1: Anu Sapkota\n",
      "2: Anjana Timsina\n",
      "3: Taylor Swift\n",
      "4: Lana Del Rey\n"
     ]
    }
   ],
   "source": [
    "library = Library()\n",
    "# print(library)\n",
    "\n",
    "library.add_book(book1)\n",
    "library.add_book(book2)\n",
    "library.add_book(book3)\n",
    "\n",
    "library.register_member(member1)\n",
    "library.register_member(member2)\n",
    "library.register_member(member3)\n",
    "library.register_member(member4)\n",
    "\n",
    "print(library)"
   ]
  },
  {
   "cell_type": "code",
   "execution_count": 43,
   "metadata": {},
   "outputs": [
    {
     "name": "stdout",
     "output_type": "stream",
     "text": [
      "Atomic Habits borrowed by Anu Sapkota\n",
      "Anjana Timsina did not borrow Verity\n",
      "No copies of Atomic Habits are available\n",
      "Available Books:\n",
      "***************\n",
      "Title: Verity\n",
      "ID: 1\n",
      "Author: Colleen Hoover\n",
      "Genre: Suspense\n",
      "Copies: 2\n",
      "***************\n",
      "Title: Till The Last Breathe\n",
      "ID: 3\n",
      "Author: Durjoy Dutta\n",
      "Genre: Romantic Fantasy\n",
      "Copies: 2\n",
      "Books Borrowed By Members:\n",
      "Anu Sapkota : Atomic Habits\n"
     ]
    }
   ],
   "source": [
    "library.borrow_book(1, 2)\n",
    "library.return_book(2, 1)\n",
    "library.borrow_book(3, 2)\n",
    "library.print_available_books()\n",
    "library.print_borrowed_books()"
   ]
  },
  {
   "cell_type": "code",
   "execution_count": 44,
   "metadata": {},
   "outputs": [
    {
     "name": "stdout",
     "output_type": "stream",
     "text": [
      "**************\n",
      "Name: Anu Sapkota\n",
      "ID: 1\n",
      "Borrowed Books: Atomic Habits\n"
     ]
    }
   ],
   "source": [
    "print(member1)"
   ]
  },
  {
   "cell_type": "code",
   "execution_count": 45,
   "metadata": {},
   "outputs": [
    {
     "name": "stdout",
     "output_type": "stream",
     "text": [
      "**************\n",
      "Name: Sandesh Bashyal\n",
      "ID: 5\n",
      "Borrowed Books: Atomic Habits\n"
     ]
    }
   ],
   "source": [
    "member5 = Member('Sandesh Bashyal', 5, ['Atomic Habits'])\n",
    "print(member5)"
   ]
  },
  {
   "cell_type": "code",
   "execution_count": 46,
   "metadata": {},
   "outputs": [
    {
     "name": "stdout",
     "output_type": "stream",
     "text": [
      "**************\n",
      "Name: Sandesh Bashyal01\n",
      "ID: 6\n",
      "Borrowed Books: Verity\n"
     ]
    }
   ],
   "source": [
    "member6 = Member('Sandesh Bashyal01', 6, [book1])\n",
    "print(member6)"
   ]
  },
  {
   "cell_type": "code",
   "execution_count": null,
   "metadata": {},
   "outputs": [],
   "source": []
  }
 ],
 "metadata": {
  "kernelspec": {
   "display_name": "Python 3 (ipykernel)",
   "language": "python",
   "name": "python3"
  },
  "language_info": {
   "codemirror_mode": {
    "name": "ipython",
    "version": 3
   },
   "file_extension": ".py",
   "mimetype": "text/x-python",
   "name": "python",
   "nbconvert_exporter": "python",
   "pygments_lexer": "ipython3",
   "version": "3.12.4"
  }
 },
 "nbformat": 4,
 "nbformat_minor": 4
}
