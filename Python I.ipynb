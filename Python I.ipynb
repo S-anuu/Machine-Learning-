{
 "cells": [
  {
   "cell_type": "markdown",
   "metadata": {},
   "source": [
    "<h2>Basic DataTypes And Variables</h2>"
   ]
  },
  {
   "cell_type": "code",
   "execution_count": 3,
   "metadata": {},
   "outputs": [
    {
     "name": "stdout",
     "output_type": "stream",
     "text": [
      "Addition: 15\n",
      "Subtraction: 5\n",
      "Division: 2.0\n",
      "Multiplication: 50\n",
      "Modulo: 0\n",
      "Exponentiation: 100000\n",
      "Floor Division: 2\n"
     ]
    }
   ],
   "source": [
    "#Arithmetic Operations on Numbers\n",
    "a = 10\n",
    "b = 5\n",
    "print(f'Addition: {a + b}')            #Addition: 15\n",
    "print(f'Subtraction: {a - b}')         #Subtraction: 5\n",
    "print(f'Division: {a / b}')            #Division: 2.0\n",
    "print(f'Multiplication: {a * b}')      #Multiplication: 50\n",
    "print(f'Modulo: {a % b}')              #Modulo: 0\n",
    "print(f'Exponentiation: {a ** b}')     #Exponentiation: 50\n",
    "print(f'Floor Division: {a // b}')     #Floor Division: 2"
   ]
  },
  {
   "cell_type": "code",
   "execution_count": 21,
   "metadata": {},
   "outputs": [
    {
     "name": "stdout",
     "output_type": "stream",
     "text": [
      "ABCDEF\n",
      "<class 'str'>\n",
      "DEFDEF\n",
      "7\n",
      "G\n",
      "bye\n",
      "GOODBYE\n",
      "goodbye\n",
      "Hey There!\n",
      "Welcome To Kathmandu\n",
      "['Welcome', 'To', 'Pokhara']\n",
      "Welcome To Pokhara\n",
      "8\n",
      "3\n",
      "True\n",
      "False\n",
      "Nepal's capital is Kathmandu\n"
     ]
    }
   ],
   "source": [
    "#Strings:\n",
    "\n",
    "#String Concatenation:\n",
    "\n",
    "str1 = 'ABC'\n",
    "str2 = 'DEF'\n",
    "\n",
    "concatenated = str1 + str2\n",
    "print(concatenated)                         #ABCDEF\n",
    "\n",
    "\n",
    "#String Conversion:\n",
    "\n",
    "intA = 25\n",
    "strA = str(intA)\n",
    "print(type(strA))                           #<class 'str'>\n",
    "\n",
    "#String Repeatition:\n",
    "\n",
    "repeated = str2 * 2\n",
    "print(repeated)                             #DEFDEF\n",
    "\n",
    "#String Length:\n",
    "\n",
    "str3 = 'Goodbye'\n",
    "length = len(str3)\n",
    "print(length)                               #7\n",
    "\n",
    "#String Indexing & Slicing:\n",
    "\n",
    "first_char = str3[0]\n",
    "last_3_chars = str3[4:]\n",
    "print(first_char)                           #G\n",
    "print(last_3_chars)                         #bye\n",
    "\n",
    "#String Case Conversion:\n",
    "\n",
    "upper_case_str3 = str3.upper()\n",
    "lower_case_str3 = str3.lower()\n",
    "print(upper_case_str3)                      #GOODBYE\n",
    "print(lower_case_str3)                      #goodbye\n",
    "\n",
    "#String Stripping:\n",
    "\n",
    "string_with_whitespaces = '    Hey There!  '#lstrip(): removes leading whitespaces\n",
    "stripped = string_with_whitespaces.strip()  #rstrip(): removes trailing whitespaces\n",
    "print(stripped)                             # Hey There!\n",
    "\n",
    "#String Replacement:\n",
    "\n",
    "str4 = 'Welcome To Pokhara'\n",
    "replaced = str4.replace('Pokhara', 'Kathmandu')\n",
    "print(replaced)                             #Welcome To Kathmandu\n",
    "\n",
    "#String Splitting:\n",
    "\n",
    "splitted = str4.split()\n",
    "print(splitted)                             #['Welcome', 'To', 'Pokhara']\n",
    "\n",
    "#String Joining:\n",
    "\n",
    "joined = ' '.join(splitted)\n",
    "print(joined)                               #Welcome To Pokhara\n",
    "\n",
    "#Find & Count:\n",
    "\n",
    "find_position = str4.find('To')\n",
    "count_ocurrence = str4.count('o')\n",
    "print(find_position)                        #8\n",
    "print(count_ocurrence)                      #3\n",
    "\n",
    "#Startswith & Endswith\n",
    "\n",
    "starts = str4.startswith('Welcome')\n",
    "ends = str4.endswith('Kathmandu')\n",
    "print(starts)                               #True\n",
    "print(ends)                                 #False\n",
    "\n",
    "#String Formatting with f-strings\n",
    "\n",
    "country = 'Nepal'\n",
    "capital = 'Kathmandu'\n",
    "formatted = f\"{country}'s capital is {capital}\"\n",
    "print(formatted)                            #Nepal's capital is Kathmandu"
   ]
  },
  {
   "cell_type": "code",
   "execution_count": 25,
   "metadata": {},
   "outputs": [
    {
     "name": "stdout",
     "output_type": "stream",
     "text": [
      "False\n",
      "True\n",
      "True\n",
      "False\n",
      "True\n",
      "False\n",
      "True\n",
      "False\n",
      "True\n",
      "False\n",
      "True\n",
      "False\n",
      "True\n"
     ]
    }
   ],
   "source": [
    "#Boolean\n",
    "\n",
    "#Boolean Operations:\n",
    "\n",
    "a = True\n",
    "b = False\n",
    "print(a and b)          #False\n",
    "print(a or b)           #True\n",
    "print(not b)            #True\n",
    "\n",
    "#Boolean Conversion:\n",
    "\n",
    "print(bool(0))          #False\n",
    "print(bool(1))          #True\n",
    "print(bool([]))         #False  \n",
    "print(bool([1]))        #True\n",
    "\n",
    "#Boolean Comparision:\n",
    "\n",
    "a = 4\n",
    "b = 6\n",
    "print(a == b)           #False\n",
    "print(a != b)           #True\n",
    "print(a > b)            #False\n",
    "print(a < b)            #True\n",
    "print(a >= b)           #False\n",
    "print(a <= b)           #True\n"
   ]
  },
  {
   "cell_type": "code",
   "execution_count": 26,
   "metadata": {},
   "outputs": [
    {
     "name": "stdout",
     "output_type": "stream",
     "text": [
      "10\n",
      "6\n",
      "18\n",
      "9.0\n"
     ]
    }
   ],
   "source": [
    "#Assignment Operators:\n",
    "\n",
    "a = 5\n",
    "a += 5 \n",
    "print(a)        #10\n",
    "a -= 4\n",
    "print(a)        #6\n",
    "a *= 3 \n",
    "print(a)        #18\n",
    "a /= 2\n",
    "print(a)        #9.0\n"
   ]
  },
  {
   "cell_type": "code",
   "execution_count": 27,
   "metadata": {},
   "outputs": [
    {
     "name": "stdout",
     "output_type": "stream",
     "text": [
      "0\n",
      "7\n",
      "7\n",
      "-3\n",
      "1\n",
      "4\n"
     ]
    }
   ],
   "source": [
    "#Bitwise Operators\n",
    "\n",
    "a = 2           #Binary: 010\n",
    "b = 5           #Binary: 101\n",
    "\n",
    "print(a & b)    #Bitwise AND: 0 (Binary: 000)\n",
    "print(a | b)    #Bitwise OR: 7 (Binary: 111)\n",
    "print(a ^ b)    #Bitwise XOR: 7 (Binary: 111)\n",
    "print(~a)       #Bitwise NOT: -3 (Binary: -011)\n",
    "print(a >> 1)   #Bitwise right shift: 1 (Binary: 001)\n",
    "print(a << 1)   #Bitwise left shift: 4 (Binary: 100)"
   ]
  }
 ],
 "metadata": {
  "kernelspec": {
   "display_name": "Python 3",
   "language": "python",
   "name": "python3"
  },
  "language_info": {
   "codemirror_mode": {
    "name": "ipython",
    "version": 3
   },
   "file_extension": ".py",
   "mimetype": "text/x-python",
   "name": "python",
   "nbconvert_exporter": "python",
   "pygments_lexer": "ipython3",
   "version": "3.12.4"
  }
 },
 "nbformat": 4,
 "nbformat_minor": 2
}
